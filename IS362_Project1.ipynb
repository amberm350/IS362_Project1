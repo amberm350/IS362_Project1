{
 "cells": [
  {
   "cell_type": "code",
   "execution_count": 76,
   "id": "04c06ace",
   "metadata": {},
   "outputs": [
    {
     "name": "stdout",
     "output_type": "stream",
     "text": [
      "62 is the number of delays for Alaska airlines\n",
      "12 is the number of delays for Alaska airlines\n",
      "20 is the number of delays for Alaska airlines\n",
      "102 is the number of delays for Alaska airlines\n",
      "305 is the number of delays for Alaska airlines\n",
      "117 is the number of delays for AM West airlines airlines\n",
      "415 is the number of delays for AM West airlines airlines\n",
      "65 is the number of delays for AM West airlines airlines\n",
      "129 is the number of delays for AM West airlines airlines\n",
      "61 is the number of delays for AM West airlines airlines\n"
     ]
    }
   ],
   "source": [
    "import pandas as pd\n",
    "import numpy as np\n",
    "\n",
    "x = pd.read_csv(r'C:\\Users\\amber\\OneDrive\\Documents\\IS362_Project1.csv')\n",
    "x\n",
    "\n",
    "k = pd.read_csv(r'C:\\Users\\amber\\OneDrive\\Documents\\IS362_Project1.csv')\n",
    "k\n",
    "\n",
    "y = x['alaska delay']\n",
    "\n",
    "a = x['AM West Delay']\n",
    "\n",
    "\n",
    "for i in y:\n",
    "    print (f\"{i} is the number of delays for Alaska airlines\")\n",
    "for b in a:\n",
    "    print (f\"{b} is the number of delays for AM West airlines airlines\")\n",
    "\n",
    "\n",
    "\n"
   ]
  },
  {
   "cell_type": "code",
   "execution_count": null,
   "id": "fa215f9f",
   "metadata": {},
   "outputs": [],
   "source": []
  },
  {
   "cell_type": "code",
   "execution_count": null,
   "id": "4aa1f5cd",
   "metadata": {},
   "outputs": [],
   "source": []
  },
  {
   "cell_type": "code",
   "execution_count": null,
   "id": "89760713",
   "metadata": {},
   "outputs": [],
   "source": []
  },
  {
   "cell_type": "code",
   "execution_count": null,
   "id": "9d15e1e6",
   "metadata": {},
   "outputs": [],
   "source": []
  }
 ],
 "metadata": {
  "kernelspec": {
   "display_name": "Python 3 (ipykernel)",
   "language": "python",
   "name": "python3"
  },
  "language_info": {
   "codemirror_mode": {
    "name": "ipython",
    "version": 3
   },
   "file_extension": ".py",
   "mimetype": "text/x-python",
   "name": "python",
   "nbconvert_exporter": "python",
   "pygments_lexer": "ipython3",
   "version": "3.9.12"
  }
 },
 "nbformat": 4,
 "nbformat_minor": 5
}
